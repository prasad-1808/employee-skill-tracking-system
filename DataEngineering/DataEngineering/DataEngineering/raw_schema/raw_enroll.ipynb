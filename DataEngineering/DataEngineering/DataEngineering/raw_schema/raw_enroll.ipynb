{
 "cells": [
  {
   "cell_type": "code",
   "execution_count": 1,
   "metadata": {},
   "outputs": [
    {
     "data": {
      "text/html": [
       "<div>\n",
       "<style scoped>\n",
       "    .dataframe tbody tr th:only-of-type {\n",
       "        vertical-align: middle;\n",
       "    }\n",
       "\n",
       "    .dataframe tbody tr th {\n",
       "        vertical-align: top;\n",
       "    }\n",
       "\n",
       "    .dataframe thead th {\n",
       "        text-align: right;\n",
       "    }\n",
       "</style>\n",
       "<table border=\"1\" class=\"dataframe\">\n",
       "  <thead>\n",
       "    <tr style=\"text-align: right;\">\n",
       "      <th></th>\n",
       "      <th>enrollment_id</th>\n",
       "      <th>employee_id</th>\n",
       "      <th>course_id</th>\n",
       "      <th>enrolled_date</th>\n",
       "      <th>completed_date</th>\n",
       "      <th>progress</th>\n",
       "      <th>ratings</th>\n",
       "      <th>feedback</th>\n",
       "    </tr>\n",
       "  </thead>\n",
       "  <tbody>\n",
       "    <tr>\n",
       "      <th>0</th>\n",
       "      <td>1</td>\n",
       "      <td>467</td>\n",
       "      <td>22</td>\n",
       "      <td>2023-08-12</td>\n",
       "      <td>2023-12-04</td>\n",
       "      <td>70</td>\n",
       "      <td>1.5</td>\n",
       "      <td>Poorly organized, I expected better.</td>\n",
       "    </tr>\n",
       "    <tr>\n",
       "      <th>1</th>\n",
       "      <td>2</td>\n",
       "      <td>425</td>\n",
       "      <td>15</td>\n",
       "      <td>2024-08-12</td>\n",
       "      <td>2024-10-01</td>\n",
       "      <td>84</td>\n",
       "      <td>5.0</td>\n",
       "      <td>Very informative and well structured.</td>\n",
       "    </tr>\n",
       "    <tr>\n",
       "      <th>2</th>\n",
       "      <td>3</td>\n",
       "      <td>423</td>\n",
       "      <td>1</td>\n",
       "      <td>2023-09-21</td>\n",
       "      <td>2024-02-24</td>\n",
       "      <td>31</td>\n",
       "      <td>3.6</td>\n",
       "      <td>Average course with some useful content.</td>\n",
       "    </tr>\n",
       "    <tr>\n",
       "      <th>3</th>\n",
       "      <td>4</td>\n",
       "      <td>107</td>\n",
       "      <td>11</td>\n",
       "      <td>2022-10-27</td>\n",
       "      <td>2023-02-20</td>\n",
       "      <td>15</td>\n",
       "      <td>2.6</td>\n",
       "      <td>It was a decent experience overall.</td>\n",
       "    </tr>\n",
       "    <tr>\n",
       "      <th>4</th>\n",
       "      <td>5</td>\n",
       "      <td>409</td>\n",
       "      <td>24</td>\n",
       "      <td>2024-05-16</td>\n",
       "      <td>2024-07-15</td>\n",
       "      <td>68</td>\n",
       "      <td>2.4</td>\n",
       "      <td>Not worth the time, very disappointing.</td>\n",
       "    </tr>\n",
       "  </tbody>\n",
       "</table>\n",
       "</div>"
      ],
      "text/plain": [
       "   enrollment_id  employee_id  course_id enrolled_date completed_date  \\\n",
       "0              1          467         22    2023-08-12     2023-12-04   \n",
       "1              2          425         15    2024-08-12     2024-10-01   \n",
       "2              3          423          1    2023-09-21     2024-02-24   \n",
       "3              4          107         11    2022-10-27     2023-02-20   \n",
       "4              5          409         24    2024-05-16     2024-07-15   \n",
       "\n",
       "   progress  ratings                                  feedback  \n",
       "0        70      1.5      Poorly organized, I expected better.  \n",
       "1        84      5.0     Very informative and well structured.  \n",
       "2        31      3.6  Average course with some useful content.  \n",
       "3        15      2.6       It was a decent experience overall.  \n",
       "4        68      2.4   Not worth the time, very disappointing.  "
      ]
     },
     "execution_count": 1,
     "metadata": {},
     "output_type": "execute_result"
    }
   ],
   "source": [
    "import pandas as pd\n",
    "file_path = r\"C:\\Users\\Admin\\Desktop\\JMD327_MainProject\\JMD327_JElite\\DataEngineering\\DataEngineering\\Data Extraction\\course_enrollment_data.csv\"\n",
    "enroll = pd.read_csv(file_path)\n",
    "enroll.head()"
   ]
  },
  {
   "cell_type": "code",
   "execution_count": 2,
   "metadata": {},
   "outputs": [],
   "source": [
    "enroll.to_csv(\"raw_enroll.csv\",index=False)"
   ]
  }
 ],
 "metadata": {
  "kernelspec": {
   "display_name": "Python 3",
   "language": "python",
   "name": "python3"
  },
  "language_info": {
   "codemirror_mode": {
    "name": "ipython",
    "version": 3
   },
   "file_extension": ".py",
   "mimetype": "text/x-python",
   "name": "python",
   "nbconvert_exporter": "python",
   "pygments_lexer": "ipython3",
   "version": "3.12.7"
  }
 },
 "nbformat": 4,
 "nbformat_minor": 2
}
