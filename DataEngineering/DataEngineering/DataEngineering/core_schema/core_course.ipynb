{
 "cells": [
  {
   "cell_type": "code",
   "execution_count": 1,
   "metadata": {},
   "outputs": [],
   "source": [
    "import numpy as np\n",
    "import pandas as pd"
   ]
  },
  {
   "cell_type": "code",
   "execution_count": 2,
   "metadata": {},
   "outputs": [
    {
     "data": {
      "text/html": [
       "<div>\n",
       "<style scoped>\n",
       "    .dataframe tbody tr th:only-of-type {\n",
       "        vertical-align: middle;\n",
       "    }\n",
       "\n",
       "    .dataframe tbody tr th {\n",
       "        vertical-align: top;\n",
       "    }\n",
       "\n",
       "    .dataframe thead th {\n",
       "        text-align: right;\n",
       "    }\n",
       "</style>\n",
       "<table border=\"1\" class=\"dataframe\">\n",
       "  <thead>\n",
       "    <tr style=\"text-align: right;\">\n",
       "      <th></th>\n",
       "      <th>course_id</th>\n",
       "      <th>course_name</th>\n",
       "      <th>course_duration</th>\n",
       "      <th>price</th>\n",
       "      <th>outcome_skill</th>\n",
       "      <th>role_outcome</th>\n",
       "    </tr>\n",
       "  </thead>\n",
       "  <tbody>\n",
       "    <tr>\n",
       "      <th>0</th>\n",
       "      <td>1</td>\n",
       "      <td>Introduction to Data Science</td>\n",
       "      <td>10</td>\n",
       "      <td>841</td>\n",
       "      <td>SQL</td>\n",
       "      <td>junior data scientist</td>\n",
       "    </tr>\n",
       "    <tr>\n",
       "      <th>1</th>\n",
       "      <td>2</td>\n",
       "      <td>Python for Data Science</td>\n",
       "      <td>11</td>\n",
       "      <td>1564</td>\n",
       "      <td>SQL</td>\n",
       "      <td>junior data scientist</td>\n",
       "    </tr>\n",
       "    <tr>\n",
       "      <th>2</th>\n",
       "      <td>3</td>\n",
       "      <td>Data Analysis with Pandas</td>\n",
       "      <td>6</td>\n",
       "      <td>757</td>\n",
       "      <td>Python</td>\n",
       "      <td>junior data scientist</td>\n",
       "    </tr>\n",
       "    <tr>\n",
       "      <th>3</th>\n",
       "      <td>4</td>\n",
       "      <td>Advanced Machine Learning</td>\n",
       "      <td>12</td>\n",
       "      <td>150</td>\n",
       "      <td>Machine Learning</td>\n",
       "      <td>senior data scientist</td>\n",
       "    </tr>\n",
       "    <tr>\n",
       "      <th>4</th>\n",
       "      <td>5</td>\n",
       "      <td>Deep Learning Specialization</td>\n",
       "      <td>12</td>\n",
       "      <td>1433</td>\n",
       "      <td>Machine Learning</td>\n",
       "      <td>senior data scientist</td>\n",
       "    </tr>\n",
       "  </tbody>\n",
       "</table>\n",
       "</div>"
      ],
      "text/plain": [
       "   course_id                   course_name  course_duration  price  \\\n",
       "0          1  Introduction to Data Science               10    841   \n",
       "1          2       Python for Data Science               11   1564   \n",
       "2          3     Data Analysis with Pandas                6    757   \n",
       "3          4     Advanced Machine Learning               12    150   \n",
       "4          5  Deep Learning Specialization               12   1433   \n",
       "\n",
       "      outcome_skill           role_outcome  \n",
       "0               SQL  junior data scientist  \n",
       "1               SQL  junior data scientist  \n",
       "2            Python  junior data scientist  \n",
       "3  Machine Learning  senior data scientist  \n",
       "4  Machine Learning  senior data scientist  "
      ]
     },
     "execution_count": 2,
     "metadata": {},
     "output_type": "execute_result"
    }
   ],
   "source": [
    "file_path = r\"C:\\Users\\Admin\\Desktop\\JMD327_MainProject\\JMD327_JElite\\DataEngineering\\DataEngineering\\DataEngineering\\prep_schema\\prep_course.csv\"\n",
    "course = pd.read_csv(file_path)\n",
    "course.head()"
   ]
  },
  {
   "cell_type": "code",
   "execution_count": 3,
   "metadata": {},
   "outputs": [],
   "source": [
    "course.to_csv(\"dim_course.csv\", index=False)"
   ]
  },
  {
   "cell_type": "code",
   "execution_count": null,
   "metadata": {},
   "outputs": [],
   "source": []
  }
 ],
 "metadata": {
  "kernelspec": {
   "display_name": "Python 3",
   "language": "python",
   "name": "python3"
  },
  "language_info": {
   "codemirror_mode": {
    "name": "ipython",
    "version": 3
   },
   "file_extension": ".py",
   "mimetype": "text/x-python",
   "name": "python",
   "nbconvert_exporter": "python",
   "pygments_lexer": "ipython3",
   "version": "3.12.7"
  }
 },
 "nbformat": 4,
 "nbformat_minor": 2
}
