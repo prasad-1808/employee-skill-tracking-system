{
 "cells": [
  {
   "cell_type": "code",
   "execution_count": 1,
   "metadata": {},
   "outputs": [],
   "source": [
    "import numpy as np\n",
    "import pandas as pd\n",
    "from datetime import datetime"
   ]
  },
  {
   "cell_type": "code",
   "execution_count": 15,
   "metadata": {},
   "outputs": [
    {
     "data": {
      "text/html": [
       "<div>\n",
       "<style scoped>\n",
       "    .dataframe tbody tr th:only-of-type {\n",
       "        vertical-align: middle;\n",
       "    }\n",
       "\n",
       "    .dataframe tbody tr th {\n",
       "        vertical-align: top;\n",
       "    }\n",
       "\n",
       "    .dataframe thead th {\n",
       "        text-align: right;\n",
       "    }\n",
       "</style>\n",
       "<table border=\"1\" class=\"dataframe\">\n",
       "  <thead>\n",
       "    <tr style=\"text-align: right;\">\n",
       "      <th></th>\n",
       "      <th>employee_id</th>\n",
       "      <th>employee_name</th>\n",
       "      <th>current_role</th>\n",
       "      <th>skills</th>\n",
       "      <th>dateofbirth</th>\n",
       "      <th>dateofjoining</th>\n",
       "      <th>email</th>\n",
       "      <th>mobile_number</th>\n",
       "      <th>Address</th>\n",
       "    </tr>\n",
       "  </thead>\n",
       "  <tbody>\n",
       "    <tr>\n",
       "      <th>0</th>\n",
       "      <td>421</td>\n",
       "      <td>Glen Wood</td>\n",
       "      <td>junior data engineer</td>\n",
       "      <td>ETL</td>\n",
       "      <td>1984-10-05</td>\n",
       "      <td>2005-05-03</td>\n",
       "      <td>xbrady@example.net</td>\n",
       "      <td>288-735-2226x36271</td>\n",
       "      <td>509 Martinez Viaduct Apt. 872, Whitebury, NM 2...</td>\n",
       "    </tr>\n",
       "    <tr>\n",
       "      <th>1</th>\n",
       "      <td>488</td>\n",
       "      <td>Mark Underwood</td>\n",
       "      <td>senior data engineer</td>\n",
       "      <td>Data Lakes</td>\n",
       "      <td>1974-03-09</td>\n",
       "      <td>2009-12-24</td>\n",
       "      <td>ywhite@example.org</td>\n",
       "      <td>873-855-6116x181</td>\n",
       "      <td>82091 Riley Trail Suite 407, Tinaland, AR 46285</td>\n",
       "    </tr>\n",
       "    <tr>\n",
       "      <th>2</th>\n",
       "      <td>272</td>\n",
       "      <td>George Smith</td>\n",
       "      <td>junior data analyst</td>\n",
       "      <td>Tableau</td>\n",
       "      <td>1972-09-18</td>\n",
       "      <td>2012-02-02</td>\n",
       "      <td>blake03@example.net</td>\n",
       "      <td>+1-999-358-4614x42755</td>\n",
       "      <td>27641 Austin Shores, Port Jose, GU 08041</td>\n",
       "    </tr>\n",
       "    <tr>\n",
       "      <th>3</th>\n",
       "      <td>355</td>\n",
       "      <td>Fred Butler</td>\n",
       "      <td>senior data engineer</td>\n",
       "      <td>Spark</td>\n",
       "      <td>1982-11-03</td>\n",
       "      <td>2010-06-27</td>\n",
       "      <td>randy40@example.com</td>\n",
       "      <td>(754)878-5042</td>\n",
       "      <td>381 Brian Turnpike, Port Chelseaburgh, VT 01848</td>\n",
       "    </tr>\n",
       "    <tr>\n",
       "      <th>4</th>\n",
       "      <td>35</td>\n",
       "      <td>Kelly Bryant</td>\n",
       "      <td>junior data engineer</td>\n",
       "      <td>Python</td>\n",
       "      <td>1961-11-11</td>\n",
       "      <td>2013-09-14</td>\n",
       "      <td>davisandrew@example.net</td>\n",
       "      <td>001-304-785-9973x8570</td>\n",
       "      <td>PSC 1740, Box 0313, APO AE 25590</td>\n",
       "    </tr>\n",
       "  </tbody>\n",
       "</table>\n",
       "</div>"
      ],
      "text/plain": [
       "   employee_id   employee_name          current_role      skills dateofbirth  \\\n",
       "0          421       Glen Wood  junior data engineer         ETL  1984-10-05   \n",
       "1          488  Mark Underwood  senior data engineer  Data Lakes  1974-03-09   \n",
       "2          272    George Smith   junior data analyst     Tableau  1972-09-18   \n",
       "3          355     Fred Butler  senior data engineer       Spark  1982-11-03   \n",
       "4           35    Kelly Bryant  junior data engineer      Python  1961-11-11   \n",
       "\n",
       "  dateofjoining                    email          mobile_number  \\\n",
       "0    2005-05-03       xbrady@example.net     288-735-2226x36271   \n",
       "1    2009-12-24       ywhite@example.org       873-855-6116x181   \n",
       "2    2012-02-02      blake03@example.net  +1-999-358-4614x42755   \n",
       "3    2010-06-27      randy40@example.com          (754)878-5042   \n",
       "4    2013-09-14  davisandrew@example.net  001-304-785-9973x8570   \n",
       "\n",
       "                                             Address  \n",
       "0  509 Martinez Viaduct Apt. 872, Whitebury, NM 2...  \n",
       "1    82091 Riley Trail Suite 407, Tinaland, AR 46285  \n",
       "2           27641 Austin Shores, Port Jose, GU 08041  \n",
       "3    381 Brian Turnpike, Port Chelseaburgh, VT 01848  \n",
       "4                   PSC 1740, Box 0313, APO AE 25590  "
      ]
     },
     "execution_count": 15,
     "metadata": {},
     "output_type": "execute_result"
    }
   ],
   "source": [
    "file_path = r\"C:\\Users\\Admin\\Desktop\\JMD327_MainProject\\JMD327_JElite\\DataEngineering\\DataEngineering\\DataEngineering\\raw_schema\\raw_employee.csv\"\n",
    "employee = pd.read_csv(file_path)\n",
    "employee.head()"
   ]
  },
  {
   "cell_type": "markdown",
   "metadata": {},
   "source": [
    "# Data Cleaning"
   ]
  },
  {
   "cell_type": "markdown",
   "metadata": {},
   "source": [
    " Remove the duplicates"
   ]
  },
  {
   "cell_type": "code",
   "execution_count": 16,
   "metadata": {},
   "outputs": [
    {
     "name": "stdout",
     "output_type": "stream",
     "text": [
      "Columns in DataFrame: Index(['employee_id', 'employee_name', 'current_role', 'skills', 'dateofbirth',\n",
      "       'dateofjoining', 'email', 'mobile_number', 'Address'],\n",
      "      dtype='object')\n",
      "Count of 'employee_id' before dropping duplicates: 500\n",
      "Count of 'employee_id' after dropping duplicates: 500\n"
     ]
    }
   ],
   "source": [
    "# Print the column names to identify the correct name\n",
    "print(\"Columns in DataFrame:\", employee.columns)\n",
    "\n",
    "# Count the number of entries in the correct column before dropping duplicates\n",
    "print(\"Count of 'employee_id' before dropping duplicates:\", employee['employee_id'].count())\n",
    "\n",
    "# Drop duplicates based on all columns\n",
    "employee = employee.drop_duplicates()\n",
    "\n",
    "# Count the number of entries in the correct column after dropping duplicates\n",
    "print(\"Count of 'employee_id' after dropping duplicates:\", employee['employee_id'].count())\n"
   ]
  },
  {
   "cell_type": "markdown",
   "metadata": {},
   "source": [
    " To identify the null"
   ]
  },
  {
   "cell_type": "code",
   "execution_count": 17,
   "metadata": {},
   "outputs": [
    {
     "data": {
      "text/plain": [
       "employee_id      0\n",
       "employee_name    0\n",
       "current_role     0\n",
       "skills           0\n",
       "dateofbirth      0\n",
       "dateofjoining    0\n",
       "email            0\n",
       "mobile_number    0\n",
       "Address          0\n",
       "dtype: int64"
      ]
     },
     "execution_count": 17,
     "metadata": {},
     "output_type": "execute_result"
    }
   ],
   "source": [
    "employee.isnull().sum()"
   ]
  },
  {
   "cell_type": "markdown",
   "metadata": {},
   "source": [
    " Data type conversion"
   ]
  },
  {
   "cell_type": "code",
   "execution_count": 18,
   "metadata": {},
   "outputs": [
    {
     "data": {
      "text/plain": [
       "employee_id       int64\n",
       "employee_name    object\n",
       "current_role     object\n",
       "skills           object\n",
       "dateofbirth      object\n",
       "dateofjoining    object\n",
       "email            object\n",
       "mobile_number    object\n",
       "Address          object\n",
       "dtype: object"
      ]
     },
     "execution_count": 18,
     "metadata": {},
     "output_type": "execute_result"
    }
   ],
   "source": [
    "employee.dtypes"
   ]
  },
  {
   "cell_type": "code",
   "execution_count": 19,
   "metadata": {},
   "outputs": [
    {
     "data": {
      "text/plain": [
       "employee_id               int64\n",
       "employee_name            object\n",
       "current_role             object\n",
       "skills                   object\n",
       "dateofbirth      datetime64[ns]\n",
       "dateofjoining            object\n",
       "email                    object\n",
       "mobile_number            object\n",
       "Address                  object\n",
       "dtype: object"
      ]
     },
     "execution_count": 19,
     "metadata": {},
     "output_type": "execute_result"
    }
   ],
   "source": [
    "employee['dateofbirth'] = pd.to_datetime(employee['dateofbirth'])\n",
    "employee.dtypes"
   ]
  },
  {
   "cell_type": "code",
   "execution_count": 20,
   "metadata": {},
   "outputs": [
    {
     "data": {
      "text/plain": [
       "employee_id               int64\n",
       "employee_name            object\n",
       "current_role             object\n",
       "skills                   object\n",
       "dateofbirth      datetime64[ns]\n",
       "dateofjoining    datetime64[ns]\n",
       "email                    object\n",
       "mobile_number            object\n",
       "Address                  object\n",
       "dtype: object"
      ]
     },
     "execution_count": 20,
     "metadata": {},
     "output_type": "execute_result"
    }
   ],
   "source": [
    "employee['dateofjoining'] = pd.to_datetime(employee['dateofjoining'])\n",
    "employee.dtypes"
   ]
  },
  {
   "cell_type": "code",
   "execution_count": 21,
   "metadata": {},
   "outputs": [
    {
     "name": "stdout",
     "output_type": "stream",
     "text": [
      "\n",
      "Data Types After Conversion:\n",
      "employee_id               int64\n",
      "employee_name            object\n",
      "current_role             object\n",
      "skills                   object\n",
      "dateofbirth      datetime64[ns]\n",
      "dateofjoining    datetime64[ns]\n",
      "email                    object\n",
      "mobile_number             int64\n",
      "Address                  object\n",
      "dtype: object\n"
     ]
    }
   ],
   "source": [
    "employee['mobile_number'] = employee['mobile_number'].str.replace(r'\\D', '', regex=True)\n",
    "\n",
    "# Convert 'mobile_number' to numeric type, coercing errors\n",
    "employee['mobile_number'] = pd.to_numeric(employee['mobile_number'], errors='coerce')\n",
    "\n",
    "# Drop rows with NaN values in 'mobile_number' if any exist\n",
    "employee = employee.dropna(subset=['mobile_number'])\n",
    "\n",
    "# Convert to integer type\n",
    "employee['mobile_number'] = employee['mobile_number'].astype(int)\n",
    "\n",
    "# Check the data types after conversion\n",
    "print(\"\\nData Types After Conversion:\")\n",
    "print(employee.dtypes)"
   ]
  },
  {
   "cell_type": "markdown",
   "metadata": {},
   "source": [
    "## Data Transformation"
   ]
  },
  {
   "cell_type": "code",
   "execution_count": 22,
   "metadata": {},
   "outputs": [
    {
     "data": {
      "text/html": [
       "<div>\n",
       "<style scoped>\n",
       "    .dataframe tbody tr th:only-of-type {\n",
       "        vertical-align: middle;\n",
       "    }\n",
       "\n",
       "    .dataframe tbody tr th {\n",
       "        vertical-align: top;\n",
       "    }\n",
       "\n",
       "    .dataframe thead th {\n",
       "        text-align: right;\n",
       "    }\n",
       "</style>\n",
       "<table border=\"1\" class=\"dataframe\">\n",
       "  <thead>\n",
       "    <tr style=\"text-align: right;\">\n",
       "      <th></th>\n",
       "      <th>employee_id</th>\n",
       "      <th>employee_name</th>\n",
       "      <th>current_role</th>\n",
       "      <th>skills</th>\n",
       "      <th>dateofbirth</th>\n",
       "      <th>dateofjoining</th>\n",
       "      <th>email</th>\n",
       "      <th>mobile_number</th>\n",
       "      <th>Address</th>\n",
       "    </tr>\n",
       "  </thead>\n",
       "  <tbody>\n",
       "    <tr>\n",
       "      <th>0</th>\n",
       "      <td>421</td>\n",
       "      <td>Glen Wood</td>\n",
       "      <td>junior data engineer</td>\n",
       "      <td>ETL</td>\n",
       "      <td>1984-10-05</td>\n",
       "      <td>2005-05-03</td>\n",
       "      <td>xbrady@example.net</td>\n",
       "      <td>288735222636271</td>\n",
       "      <td>509 Martinez Viaduct Apt. 872, Whitebury, NM 2...</td>\n",
       "    </tr>\n",
       "    <tr>\n",
       "      <th>1</th>\n",
       "      <td>488</td>\n",
       "      <td>Mark Underwood</td>\n",
       "      <td>senior data engineer</td>\n",
       "      <td>Data Lakes</td>\n",
       "      <td>1974-03-09</td>\n",
       "      <td>2009-12-24</td>\n",
       "      <td>ywhite@example.org</td>\n",
       "      <td>8738556116181</td>\n",
       "      <td>82091 Riley Trail Suite 407, Tinaland, AR 46285</td>\n",
       "    </tr>\n",
       "    <tr>\n",
       "      <th>2</th>\n",
       "      <td>272</td>\n",
       "      <td>George Smith</td>\n",
       "      <td>junior data analyst</td>\n",
       "      <td>Tableau</td>\n",
       "      <td>1972-09-18</td>\n",
       "      <td>2012-02-02</td>\n",
       "      <td>blake03@example.net</td>\n",
       "      <td>1999358461442755</td>\n",
       "      <td>27641 Austin Shores, Port Jose, GU 08041</td>\n",
       "    </tr>\n",
       "    <tr>\n",
       "      <th>3</th>\n",
       "      <td>355</td>\n",
       "      <td>Fred Butler</td>\n",
       "      <td>senior data engineer</td>\n",
       "      <td>Spark</td>\n",
       "      <td>1982-11-03</td>\n",
       "      <td>2010-06-27</td>\n",
       "      <td>randy40@example.com</td>\n",
       "      <td>7548785042</td>\n",
       "      <td>381 Brian Turnpike, Port Chelseaburgh, VT 01848</td>\n",
       "    </tr>\n",
       "    <tr>\n",
       "      <th>4</th>\n",
       "      <td>35</td>\n",
       "      <td>Kelly Bryant</td>\n",
       "      <td>junior data engineer</td>\n",
       "      <td>Python</td>\n",
       "      <td>1961-11-11</td>\n",
       "      <td>2013-09-14</td>\n",
       "      <td>davisandrew@example.net</td>\n",
       "      <td>130478599738570</td>\n",
       "      <td>PSC 1740, Box 0313, APO AE 25590</td>\n",
       "    </tr>\n",
       "  </tbody>\n",
       "</table>\n",
       "</div>"
      ],
      "text/plain": [
       "   employee_id   employee_name          current_role      skills dateofbirth  \\\n",
       "0          421       Glen Wood  junior data engineer         ETL  1984-10-05   \n",
       "1          488  Mark Underwood  senior data engineer  Data Lakes  1974-03-09   \n",
       "2          272    George Smith   junior data analyst     Tableau  1972-09-18   \n",
       "3          355     Fred Butler  senior data engineer       Spark  1982-11-03   \n",
       "4           35    Kelly Bryant  junior data engineer      Python  1961-11-11   \n",
       "\n",
       "  dateofjoining                    email     mobile_number  \\\n",
       "0    2005-05-03       xbrady@example.net   288735222636271   \n",
       "1    2009-12-24       ywhite@example.org     8738556116181   \n",
       "2    2012-02-02      blake03@example.net  1999358461442755   \n",
       "3    2010-06-27      randy40@example.com        7548785042   \n",
       "4    2013-09-14  davisandrew@example.net   130478599738570   \n",
       "\n",
       "                                             Address  \n",
       "0  509 Martinez Viaduct Apt. 872, Whitebury, NM 2...  \n",
       "1    82091 Riley Trail Suite 407, Tinaland, AR 46285  \n",
       "2           27641 Austin Shores, Port Jose, GU 08041  \n",
       "3    381 Brian Turnpike, Port Chelseaburgh, VT 01848  \n",
       "4                   PSC 1740, Box 0313, APO AE 25590  "
      ]
     },
     "execution_count": 22,
     "metadata": {},
     "output_type": "execute_result"
    }
   ],
   "source": [
    "employee.head()"
   ]
  },
  {
   "cell_type": "code",
   "execution_count": 23,
   "metadata": {},
   "outputs": [],
   "source": [
    "now = pd.Timestamp(datetime.now())\n",
    "\n",
    "# Calculate years of experience\n",
    "employee['yearofexperience'] = (now - employee['dateofjoining']).dt.days // 365"
   ]
  },
  {
   "cell_type": "code",
   "execution_count": 24,
   "metadata": {},
   "outputs": [
    {
     "data": {
      "text/html": [
       "<div>\n",
       "<style scoped>\n",
       "    .dataframe tbody tr th:only-of-type {\n",
       "        vertical-align: middle;\n",
       "    }\n",
       "\n",
       "    .dataframe tbody tr th {\n",
       "        vertical-align: top;\n",
       "    }\n",
       "\n",
       "    .dataframe thead th {\n",
       "        text-align: right;\n",
       "    }\n",
       "</style>\n",
       "<table border=\"1\" class=\"dataframe\">\n",
       "  <thead>\n",
       "    <tr style=\"text-align: right;\">\n",
       "      <th></th>\n",
       "      <th>employee_id</th>\n",
       "      <th>employee_name</th>\n",
       "      <th>current_role</th>\n",
       "      <th>skills</th>\n",
       "      <th>dateofbirth</th>\n",
       "      <th>dateofjoining</th>\n",
       "      <th>email</th>\n",
       "      <th>mobile_number</th>\n",
       "      <th>Address</th>\n",
       "      <th>yearofexperience</th>\n",
       "    </tr>\n",
       "  </thead>\n",
       "  <tbody>\n",
       "    <tr>\n",
       "      <th>0</th>\n",
       "      <td>421</td>\n",
       "      <td>Glen Wood</td>\n",
       "      <td>junior data engineer</td>\n",
       "      <td>ETL</td>\n",
       "      <td>1984-10-05</td>\n",
       "      <td>2005-05-03</td>\n",
       "      <td>xbrady@example.net</td>\n",
       "      <td>288735222636271</td>\n",
       "      <td>509 Martinez Viaduct Apt. 872, Whitebury, NM 2...</td>\n",
       "      <td>19</td>\n",
       "    </tr>\n",
       "    <tr>\n",
       "      <th>1</th>\n",
       "      <td>488</td>\n",
       "      <td>Mark Underwood</td>\n",
       "      <td>senior data engineer</td>\n",
       "      <td>Data Lakes</td>\n",
       "      <td>1974-03-09</td>\n",
       "      <td>2009-12-24</td>\n",
       "      <td>ywhite@example.org</td>\n",
       "      <td>8738556116181</td>\n",
       "      <td>82091 Riley Trail Suite 407, Tinaland, AR 46285</td>\n",
       "      <td>14</td>\n",
       "    </tr>\n",
       "    <tr>\n",
       "      <th>2</th>\n",
       "      <td>272</td>\n",
       "      <td>George Smith</td>\n",
       "      <td>junior data analyst</td>\n",
       "      <td>Tableau</td>\n",
       "      <td>1972-09-18</td>\n",
       "      <td>2012-02-02</td>\n",
       "      <td>blake03@example.net</td>\n",
       "      <td>1999358461442755</td>\n",
       "      <td>27641 Austin Shores, Port Jose, GU 08041</td>\n",
       "      <td>12</td>\n",
       "    </tr>\n",
       "    <tr>\n",
       "      <th>3</th>\n",
       "      <td>355</td>\n",
       "      <td>Fred Butler</td>\n",
       "      <td>senior data engineer</td>\n",
       "      <td>Spark</td>\n",
       "      <td>1982-11-03</td>\n",
       "      <td>2010-06-27</td>\n",
       "      <td>randy40@example.com</td>\n",
       "      <td>7548785042</td>\n",
       "      <td>381 Brian Turnpike, Port Chelseaburgh, VT 01848</td>\n",
       "      <td>14</td>\n",
       "    </tr>\n",
       "    <tr>\n",
       "      <th>4</th>\n",
       "      <td>35</td>\n",
       "      <td>Kelly Bryant</td>\n",
       "      <td>junior data engineer</td>\n",
       "      <td>Python</td>\n",
       "      <td>1961-11-11</td>\n",
       "      <td>2013-09-14</td>\n",
       "      <td>davisandrew@example.net</td>\n",
       "      <td>130478599738570</td>\n",
       "      <td>PSC 1740, Box 0313, APO AE 25590</td>\n",
       "      <td>11</td>\n",
       "    </tr>\n",
       "  </tbody>\n",
       "</table>\n",
       "</div>"
      ],
      "text/plain": [
       "   employee_id   employee_name          current_role      skills dateofbirth  \\\n",
       "0          421       Glen Wood  junior data engineer         ETL  1984-10-05   \n",
       "1          488  Mark Underwood  senior data engineer  Data Lakes  1974-03-09   \n",
       "2          272    George Smith   junior data analyst     Tableau  1972-09-18   \n",
       "3          355     Fred Butler  senior data engineer       Spark  1982-11-03   \n",
       "4           35    Kelly Bryant  junior data engineer      Python  1961-11-11   \n",
       "\n",
       "  dateofjoining                    email     mobile_number  \\\n",
       "0    2005-05-03       xbrady@example.net   288735222636271   \n",
       "1    2009-12-24       ywhite@example.org     8738556116181   \n",
       "2    2012-02-02      blake03@example.net  1999358461442755   \n",
       "3    2010-06-27      randy40@example.com        7548785042   \n",
       "4    2013-09-14  davisandrew@example.net   130478599738570   \n",
       "\n",
       "                                             Address  yearofexperience  \n",
       "0  509 Martinez Viaduct Apt. 872, Whitebury, NM 2...                19  \n",
       "1    82091 Riley Trail Suite 407, Tinaland, AR 46285                14  \n",
       "2           27641 Austin Shores, Port Jose, GU 08041                12  \n",
       "3    381 Brian Turnpike, Port Chelseaburgh, VT 01848                14  \n",
       "4                   PSC 1740, Box 0313, APO AE 25590                11  "
      ]
     },
     "execution_count": 24,
     "metadata": {},
     "output_type": "execute_result"
    }
   ],
   "source": [
    "employee.head()"
   ]
  },
  {
   "cell_type": "code",
   "execution_count": 25,
   "metadata": {},
   "outputs": [],
   "source": [
    "employee.to_csv(\"prep_employee.csv\", index=False)"
   ]
  },
  {
   "cell_type": "code",
   "execution_count": 26,
   "metadata": {},
   "outputs": [
    {
     "data": {
      "text/plain": [
       "<bound method NDFrame.head of      employee_id   employee_name              current_role  \\\n",
       "0            421       Glen Wood      junior data engineer   \n",
       "1            488  Mark Underwood      senior data engineer   \n",
       "2            272    George Smith       junior data analyst   \n",
       "3            355     Fred Butler      senior data engineer   \n",
       "4             35    Kelly Bryant      junior data engineer   \n",
       "..           ...             ...                       ...   \n",
       "495          411  Melanie Holder      senior data engineer   \n",
       "496          249   Ryan Marshall  senior software engineer   \n",
       "497           85      Cody Baker      junior data engineer   \n",
       "498           47    Haley Curtis     senior data scientist   \n",
       "499          240   Rebecca Perez       junior data analyst   \n",
       "\n",
       "                          skills dateofbirth dateofjoining  \\\n",
       "0                            ETL  1984-10-05    2005-05-03   \n",
       "1                     Data Lakes  1974-03-09    2009-12-24   \n",
       "2                        Tableau  1972-09-18    2012-02-02   \n",
       "3                          Spark  1982-11-03    2010-06-27   \n",
       "4                         Python  1961-11-11    2013-09-14   \n",
       "..                           ...         ...           ...   \n",
       "495                       Hadoop  1976-05-09    2019-11-10   \n",
       "496                       DevOps  1977-07-21    2017-10-19   \n",
       "497                          ETL  1974-07-12    2004-11-17   \n",
       "498  Natural Language Processing  1970-07-06    2012-02-19   \n",
       "499                        Excel  1961-08-26    2005-01-04   \n",
       "\n",
       "                         email     mobile_number  \\\n",
       "0           xbrady@example.net   288735222636271   \n",
       "1           ywhite@example.org     8738556116181   \n",
       "2          blake03@example.net  1999358461442755   \n",
       "3          randy40@example.com        7548785042   \n",
       "4      davisandrew@example.net   130478599738570   \n",
       "..                         ...               ...   \n",
       "495  emilycrawford@example.org   872352706978436   \n",
       "496     browndavid@example.org     3847862032057   \n",
       "497   caitlinperry@example.org    96225801730266   \n",
       "498        april83@example.org  1381765874989730   \n",
       "499     sarahpatel@example.com       17743092358   \n",
       "\n",
       "                                               Address  yearofexperience  \n",
       "0    509 Martinez Viaduct Apt. 872, Whitebury, NM 2...                19  \n",
       "1      82091 Riley Trail Suite 407, Tinaland, AR 46285                14  \n",
       "2             27641 Austin Shores, Port Jose, GU 08041                12  \n",
       "3      381 Brian Turnpike, Port Chelseaburgh, VT 01848                14  \n",
       "4                     PSC 1740, Box 0313, APO AE 25590                11  \n",
       "..                                                 ...               ...  \n",
       "495             195 Donald Rapid, Jacobsberg, MP 46142                 4  \n",
       "496                   PSC 0251, Box 9756, APO AA 19442                 6  \n",
       "497         391 Duncan Gateway, East Natalie, WV 96438                19  \n",
       "498      075 Allen Divide, New Meaganchester, MI 80616                12  \n",
       "499  5990 Steven Greens Apt. 504, Powersshire, KS 0...                19  \n",
       "\n",
       "[500 rows x 10 columns]>"
      ]
     },
     "execution_count": 26,
     "metadata": {},
     "output_type": "execute_result"
    }
   ],
   "source": [
    "df= pd.read_csv('prep_employee.csv')\n",
    "df.head"
   ]
  },
  {
   "cell_type": "code",
   "execution_count": 27,
   "metadata": {},
   "outputs": [],
   "source": [
    "employee.to_csv(\"prep_employee.csv\", index=False)"
   ]
  },
  {
   "cell_type": "code",
   "execution_count": null,
   "metadata": {},
   "outputs": [],
   "source": []
  }
 ],
 "metadata": {
  "kernelspec": {
   "display_name": "Python 3",
   "language": "python",
   "name": "python3"
  },
  "language_info": {
   "codemirror_mode": {
    "name": "ipython",
    "version": 3
   },
   "file_extension": ".py",
   "mimetype": "text/x-python",
   "name": "python",
   "nbconvert_exporter": "python",
   "pygments_lexer": "ipython3",
   "version": "3.12.7"
  }
 },
 "nbformat": 4,
 "nbformat_minor": 2
}
