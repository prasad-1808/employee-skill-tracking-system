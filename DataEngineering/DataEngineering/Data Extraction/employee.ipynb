{
 "cells": [
  {
   "cell_type": "code",
   "execution_count": 1,
   "metadata": {},
   "outputs": [
    {
     "name": "stdout",
     "output_type": "stream",
     "text": [
      "Employee dataset generated and saved to employee_data.csv\n"
     ]
    }
   ],
   "source": [
    "import pandas as pd\n",
    "from faker import Faker\n",
    "import random\n",
    "\n",
    "# Initialize Faker\n",
    "fake = Faker()\n",
    "\n",
    "# Predefined roles with specific titles\n",
    "roles_mapping = {\n",
    "    'Data Scientist': ['junior data scientist', 'senior data scientist'],\n",
    "    'Data Engineer': ['junior data engineer', 'senior data engineer'],\n",
    "    'Software Engineer': ['junior software engineer', 'senior software engineer'],\n",
    "    'Data Analyst': ['junior data analyst', 'senior data analyst']\n",
    "}\n",
    "\n",
    "# Expanded skills based on role\n",
    "skills_mapping = {\n",
    "    'junior data scientist': ['Python', 'SQL', 'Data Visualization'],\n",
    "    'senior data scientist': ['Machine Learning', 'TensorFlow', 'Natural Language Processing'],\n",
    "    'junior data engineer': ['Python', 'ETL', 'Data Warehousing'],\n",
    "    'senior data engineer': ['Hadoop', 'Spark', 'Data Lakes'],\n",
    "    'junior software engineer': ['JavaScript', 'HTML', 'CSS'],\n",
    "    'senior software engineer': ['Microservices', 'DevOps', 'Cloud Computing'],\n",
    "    'junior data analyst': ['Excel', 'Tableau', 'SQL'],\n",
    "    'senior data analyst': ['Statistics', 'Predictive Analytics', 'Data Modeling']\n",
    "}\n",
    "\n",
    "# Helper function to get a random role\n",
    "def get_random_role():\n",
    "    role = random.choice(list(roles_mapping.keys()))\n",
    "    return random.choice(roles_mapping[role])  # Randomly choose junior or senior role\n",
    "\n",
    "# Helper function to generate a random skill based on role\n",
    "def get_random_skill(role):\n",
    "    available_skills = skills_mapping[role]\n",
    "    return random.choice(available_skills)  # Select one random skill\n",
    "\n",
    "# Sample employee DataFrame for generating employee IDs\n",
    "def create_sample_employee_df(num_records):\n",
    "    return pd.DataFrame({\n",
    "        'employee_id': range(1, num_records + 1)\n",
    "    })\n",
    "\n",
    "# Generate employee IDs DataFrame\n",
    "employee_df = create_sample_employee_df(500)\n",
    "\n",
    "# Function to generate employee data\n",
    "def generate_employee_data(num_records):\n",
    "    employee_data = []\n",
    "    \n",
    "    for _ in range(num_records):\n",
    "        role = get_random_role()\n",
    "        skill = get_random_skill(role)\n",
    "        employee_id = random.choice(employee_df['employee_id'].values)\n",
    "        employee = {\n",
    "            'employee_id': employee_id,\n",
    "            'employee_name': fake.name(),\n",
    "            'current_role': role,\n",
    "            'skills': skill,  # Assign only one skill\n",
    "            'dateofbirth': fake.date_of_birth(minimum_age=18, maximum_age=70),\n",
    "            'dateofjoining': fake.date_between(start_date='-20y', end_date='today'),\n",
    "            'email': fake.email(),\n",
    "            'mobile_number': fake.phone_number(),\n",
    "            'Address': fake.address().replace('\\n', ', ')\n",
    "        }\n",
    "        employee_data.append(employee)\n",
    "\n",
    "    return employee_data\n",
    "\n",
    "employee_data = generate_employee_data(500)\n",
    "\n",
    "# Convert to DataFrame\n",
    "df = pd.DataFrame(employee_data)\n",
    "\n",
    "# Save to CSV\n",
    "df.to_csv('employee_data.csv', index=False)\n",
    "\n",
    "print('Employee dataset generated and saved to employee_data.csv')\n"
   ]
  },
  {
   "cell_type": "code",
   "execution_count": null,
   "metadata": {},
   "outputs": [],
   "source": []
  }
 ],
 "metadata": {
  "kernelspec": {
   "display_name": "Python 3",
   "language": "python",
   "name": "python3"
  },
  "language_info": {
   "codemirror_mode": {
    "name": "ipython",
    "version": 3
   },
   "file_extension": ".py",
   "mimetype": "text/x-python",
   "name": "python",
   "nbconvert_exporter": "python",
   "pygments_lexer": "ipython3",
   "version": "3.12.7"
  }
 },
 "nbformat": 4,
 "nbformat_minor": 2
}
